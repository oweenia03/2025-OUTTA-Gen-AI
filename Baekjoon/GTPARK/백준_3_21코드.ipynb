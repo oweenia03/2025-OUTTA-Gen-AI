{
  "nbformat": 4,
  "nbformat_minor": 0,
  "metadata": {
    "colab": {
      "provenance": []
    },
    "kernelspec": {
      "name": "python3",
      "display_name": "Python 3"
    },
    "language_info": {
      "name": "python"
    }
  },
  "cells": [
    {
      "cell_type": "markdown",
      "source": [
        "3단계"
      ],
      "metadata": {
        "id": "QTf0mKItj_11"
      }
    },
    {
      "cell_type": "code",
      "execution_count": null,
      "metadata": {
        "id": "6Ih1cFCRidmP"
      },
      "outputs": [],
      "source": [
        "n = int(input())\n",
        "sum=1\n",
        "for i in range(1, n):\n",
        "    sum = sum+n\n",
        "    n = n-1\n",
        "\n",
        "print(sum)\n"
      ]
    },
    {
      "cell_type": "code",
      "source": [
        "A = 1\n",
        "B = 1\n",
        "while True:\n",
        "    A, B = map(int, input().split())\n",
        "    if (A+B)==0:\n",
        "        break\n",
        "    print(A+B)"
      ],
      "metadata": {
        "id": "jfHZcyDznJch"
      },
      "execution_count": null,
      "outputs": []
    },
    {
      "cell_type": "markdown",
      "source": [
        "4단계"
      ],
      "metadata": {
        "id": "FJiuiQKynKKh"
      }
    },
    {
      "cell_type": "code",
      "source": [
        "N, M = map(int, input().split())\n",
        "arr = [0]*N\n",
        "for z in range(1, M+1):\n",
        "    i, j, k = map(int, input().split())\n",
        "    arr[i-1:j] = [k]*(j-i+1)\n",
        "\n",
        "print(' '.join(str(x) for x in arr))"
      ],
      "metadata": {
        "id": "I7LHYO06nMBj"
      },
      "execution_count": null,
      "outputs": []
    },
    {
      "cell_type": "code",
      "source": [
        "N, M = map(int, input().split())\n",
        "arr = list(range(1, N+1))\n",
        "for z in range(1, M+1):\n",
        "    i, j = map(int, input().split())\n",
        "    arr[i-1:j] = arr[i-1:j][::-1]\n",
        "print(' '.join(str(x) for x in arr))"
      ],
      "metadata": {
        "id": "KKno2kFAnj2Q"
      },
      "execution_count": null,
      "outputs": []
    },
    {
      "cell_type": "markdown",
      "source": [
        "5단계"
      ],
      "metadata": {
        "id": "fHBjicGcEi4l"
      }
    },
    {
      "cell_type": "code",
      "source": [
        "S = input()\n",
        "\n",
        "for i in range(26):\n",
        "    ch = chr(ord('a') + i)     # 'a'부터 'z'까지 문자 생성\n",
        "    print(S.find(ch), end=' ')"
      ],
      "metadata": {
        "id": "-N74QfaGElSG"
      },
      "execution_count": null,
      "outputs": []
    },
    {
      "cell_type": "code",
      "source": [
        "A, B = map(list, input().split())\n",
        "A = list(A)\n",
        "B = list(B)\n",
        "A[0:4] = A[0:4][::-1]\n",
        "B[0:4] = B[0:4][::-1]\n",
        "A = int(''.join(map(str, A)))\n",
        "B = int(''.join(map(str, B)))\n",
        "if A>B:\n",
        "    print(A)\n",
        "else:\n",
        "    print(B)"
      ],
      "metadata": {
        "id": "lx1VZXxVElgJ"
      },
      "execution_count": null,
      "outputs": []
    },
    {
      "cell_type": "markdown",
      "source": [
        "6단계"
      ],
      "metadata": {
        "id": "DH5e8dF8El8i"
      }
    },
    {
      "cell_type": "code",
      "source": [
        "# 입력 받기\n",
        "word = input()\n",
        "\n",
        "# 팰린드롬 판별\n",
        "if word == word[::-1]:  # 문자열을 뒤집어서 원본과 비교\n",
        "    print(1)\n",
        "else:\n",
        "    print(0)"
      ],
      "metadata": {
        "id": "HGKyXVTMEnW2"
      },
      "execution_count": null,
      "outputs": []
    },
    {
      "cell_type": "code",
      "source": [
        "N = int(input())\n",
        "count = 0\n",
        "\n",
        "for _ in range(N):\n",
        "    word = input()\n",
        "    is_group = True\n",
        "    seen = set()\n",
        "    prev_char = ''\n",
        "\n",
        "    for char in word:\n",
        "        if char != prev_char:\n",
        "            if char in seen:\n",
        "                is_group = False\n",
        "                break\n",
        "            seen.add(char)\n",
        "        prev_char = char\n",
        "\n",
        "    if is_group:\n",
        "        count += 1\n",
        "\n",
        "print(count)\n"
      ],
      "metadata": {
        "id": "atZbb0PVEnlo"
      },
      "execution_count": null,
      "outputs": []
    },
    {
      "cell_type": "code",
      "source": [
        "비고:못품"
      ],
      "metadata": {
        "id": "svKDE3SQKfm5"
      },
      "execution_count": null,
      "outputs": []
    },
    {
      "cell_type": "markdown",
      "source": [
        "7단계"
      ],
      "metadata": {
        "id": "jHaw-neVEoFO"
      }
    },
    {
      "cell_type": "code",
      "source": [
        "# 입력 받기 (최대 5줄)\n",
        "words = [input().strip() for _ in range(5)]\n",
        "\n",
        "# 최대 길이 찾기 (최대 15)\n",
        "max_length = max(len(word) for word in words)\n",
        "\n",
        "# 세로로 읽은 문자 저장\n",
        "result = \"\"\n",
        "\n",
        "# 세로로 읽기\n",
        "for i in range(max_length):\n",
        "    for word in words:\n",
        "        if i < len(word):  # 현재 단어의 i번째 글자가 존재하면 추가\n",
        "            result += word[i]\n",
        "\n",
        "# 출력\n",
        "print(result)\n"
      ],
      "metadata": {
        "id": "v4PgtNUWKpBh"
      },
      "execution_count": null,
      "outputs": []
    },
    {
      "cell_type": "code",
      "source": [
        "N = int(input())\n",
        "rows = 100\n",
        "cols = 100\n",
        "matrix = [[0 for _ in range(cols)] for _ in range(rows)]\n",
        "\n",
        "for i in range(1, N+1):\n",
        "    x, y = map(int, input().split())\n",
        "    for i in range(x, x+10):  # 1행부터 2행까지\n",
        "        for j in range(y, y+10):  # 1열부터 3열까지\n",
        "            matrix[i][j] = 1\n",
        "count = 0\n",
        "for row in matrix:\n",
        "    for val in row:\n",
        "        if val == 1:\n",
        "            count += 1\n",
        "\n",
        "print(count)  # 배열 안에 있는 1의 개수 출력\n"
      ],
      "metadata": {
        "id": "0T7Enyy9Epku"
      },
      "execution_count": null,
      "outputs": []
    },
    {
      "cell_type": "markdown",
      "source": [
        "8단"
      ],
      "metadata": {
        "id": "uJEUlNBEEqHl"
      }
    },
    {
      "cell_type": "code",
      "source": [
        "N = int(input())\n",
        "#print(((2^N)+1)^2) ^은 제곱이 아닌 비트 연산자, **써야함\n",
        "print(((2**N)+1)**2)"
      ],
      "metadata": {
        "id": "C-aiw7RTKqzZ"
      },
      "execution_count": null,
      "outputs": []
    },
    {
      "cell_type": "code",
      "source": [],
      "metadata": {
        "id": "xNTd2qAyKrBE"
      },
      "execution_count": null,
      "outputs": []
    }
  ]
}